{
 "cells": [
  {
   "cell_type": "code",
   "execution_count": 1,
   "metadata": {},
   "outputs": [
    {
     "name": "stdout",
     "output_type": "stream",
     "text": [
      "Requirement already satisfied: pyspark in /home/linuxbrew/.linuxbrew/Cellar/jupyterlab/4.2.1/libexec/lib/python3.12/site-packages (3.5.1)\n",
      "Requirement already satisfied: py4j==0.10.9.7 in /home/linuxbrew/.linuxbrew/Cellar/jupyterlab/4.2.1/libexec/lib/python3.12/site-packages (from pyspark) (0.10.9.7)\n",
      "\n",
      "\u001b[1m[\u001b[0m\u001b[34;49mnotice\u001b[0m\u001b[1;39;49m]\u001b[0m\u001b[39;49m A new release of pip is available: \u001b[0m\u001b[31;49m24.0\u001b[0m\u001b[39;49m -> \u001b[0m\u001b[32;49m24.1.2\u001b[0m\n",
      "\u001b[1m[\u001b[0m\u001b[34;49mnotice\u001b[0m\u001b[1;39;49m]\u001b[0m\u001b[39;49m To update, run: \u001b[0m\u001b[32;49m/home/linuxbrew/.linuxbrew/Cellar/jupyterlab/4.2.1/libexec/bin/python -m pip install --upgrade pip\u001b[0m\n",
      "Note: you may need to restart the kernel to use updated packages.\n",
      "Requirement already satisfied: delta-spark==3.1.0 in /home/linuxbrew/.linuxbrew/Cellar/jupyterlab/4.2.1/libexec/lib/python3.12/site-packages (3.1.0)\n",
      "Requirement already satisfied: pyspark<3.6.0,>=3.5.0 in /home/linuxbrew/.linuxbrew/Cellar/jupyterlab/4.2.1/libexec/lib/python3.12/site-packages (from delta-spark==3.1.0) (3.5.1)\n",
      "Requirement already satisfied: importlib-metadata>=1.0.0 in /home/linuxbrew/.linuxbrew/Cellar/jupyterlab/4.2.1/libexec/lib/python3.12/site-packages (from delta-spark==3.1.0) (8.0.0)\n",
      "Requirement already satisfied: zipp>=0.5 in /home/linuxbrew/.linuxbrew/Cellar/jupyterlab/4.2.1/libexec/lib/python3.12/site-packages (from importlib-metadata>=1.0.0->delta-spark==3.1.0) (3.19.2)\n",
      "Requirement already satisfied: py4j==0.10.9.7 in /home/linuxbrew/.linuxbrew/Cellar/jupyterlab/4.2.1/libexec/lib/python3.12/site-packages (from pyspark<3.6.0,>=3.5.0->delta-spark==3.1.0) (0.10.9.7)\n",
      "\n",
      "\u001b[1m[\u001b[0m\u001b[34;49mnotice\u001b[0m\u001b[1;39;49m]\u001b[0m\u001b[39;49m A new release of pip is available: \u001b[0m\u001b[31;49m24.0\u001b[0m\u001b[39;49m -> \u001b[0m\u001b[32;49m24.1.2\u001b[0m\n",
      "\u001b[1m[\u001b[0m\u001b[34;49mnotice\u001b[0m\u001b[1;39;49m]\u001b[0m\u001b[39;49m To update, run: \u001b[0m\u001b[32;49m/home/linuxbrew/.linuxbrew/Cellar/jupyterlab/4.2.1/libexec/bin/python -m pip install --upgrade pip\u001b[0m\n",
      "Note: you may need to restart the kernel to use updated packages.\n",
      "Requirement already satisfied: pandas in /home/linuxbrew/.linuxbrew/Cellar/jupyterlab/4.2.1/libexec/lib/python3.12/site-packages (2.2.2)\n",
      "Requirement already satisfied: matplotlib in /home/linuxbrew/.linuxbrew/Cellar/jupyterlab/4.2.1/libexec/lib/python3.12/site-packages (3.9.1)\n",
      "Requirement already satisfied: numpy>=1.26.0 in /home/linuxbrew/.linuxbrew/Cellar/jupyterlab/4.2.1/libexec/lib/python3.12/site-packages (from pandas) (2.0.0)\n",
      "Requirement already satisfied: python-dateutil>=2.8.2 in /home/linuxbrew/.linuxbrew/Cellar/jupyterlab/4.2.1/libexec/lib/python3.12/site-packages (from pandas) (2.9.0.post0)\n",
      "Requirement already satisfied: pytz>=2020.1 in /home/linuxbrew/.linuxbrew/Cellar/jupyterlab/4.2.1/libexec/lib/python3.12/site-packages (from pandas) (2024.1)\n",
      "Requirement already satisfied: tzdata>=2022.7 in /home/linuxbrew/.linuxbrew/Cellar/jupyterlab/4.2.1/libexec/lib/python3.12/site-packages (from pandas) (2024.1)\n",
      "Requirement already satisfied: contourpy>=1.0.1 in /home/linuxbrew/.linuxbrew/Cellar/jupyterlab/4.2.1/libexec/lib/python3.12/site-packages (from matplotlib) (1.2.1)\n",
      "Requirement already satisfied: cycler>=0.10 in /home/linuxbrew/.linuxbrew/Cellar/jupyterlab/4.2.1/libexec/lib/python3.12/site-packages (from matplotlib) (0.12.1)\n",
      "Requirement already satisfied: fonttools>=4.22.0 in /home/linuxbrew/.linuxbrew/Cellar/jupyterlab/4.2.1/libexec/lib/python3.12/site-packages (from matplotlib) (4.53.1)\n",
      "Requirement already satisfied: kiwisolver>=1.3.1 in /home/linuxbrew/.linuxbrew/Cellar/jupyterlab/4.2.1/libexec/lib/python3.12/site-packages (from matplotlib) (1.4.5)\n",
      "Requirement already satisfied: packaging>=20.0 in /home/linuxbrew/.linuxbrew/Cellar/jupyterlab/4.2.1/libexec/lib/python3.12/site-packages (from matplotlib) (24.0)\n",
      "Requirement already satisfied: pillow>=8 in /home/linuxbrew/.linuxbrew/Cellar/jupyterlab/4.2.1/libexec/lib/python3.12/site-packages (from matplotlib) (10.4.0)\n",
      "Requirement already satisfied: pyparsing>=2.3.1 in /home/linuxbrew/.linuxbrew/Cellar/jupyterlab/4.2.1/libexec/lib/python3.12/site-packages (from matplotlib) (3.1.2)\n",
      "Requirement already satisfied: six>=1.5 in /home/linuxbrew/.linuxbrew/Cellar/jupyterlab/4.2.1/libexec/lib/python3.12/site-packages (from python-dateutil>=2.8.2->pandas) (1.16.0)\n",
      "\n",
      "\u001b[1m[\u001b[0m\u001b[34;49mnotice\u001b[0m\u001b[1;39;49m]\u001b[0m\u001b[39;49m A new release of pip is available: \u001b[0m\u001b[31;49m24.0\u001b[0m\u001b[39;49m -> \u001b[0m\u001b[32;49m24.1.2\u001b[0m\n",
      "\u001b[1m[\u001b[0m\u001b[34;49mnotice\u001b[0m\u001b[1;39;49m]\u001b[0m\u001b[39;49m To update, run: \u001b[0m\u001b[32;49m/home/linuxbrew/.linuxbrew/Cellar/jupyterlab/4.2.1/libexec/bin/python -m pip install --upgrade pip\u001b[0m\n",
      "Note: you may need to restart the kernel to use updated packages.\n"
     ]
    }
   ],
   "source": [
    "%pip install pyspark\n",
    "%pip install delta-spark==3.1.0\n",
    "%pip install pandas matplotlib"
   ]
  },
  {
   "cell_type": "code",
   "execution_count": 2,
   "metadata": {},
   "outputs": [],
   "source": [
    "from pyspark.sql import SparkSession\n",
    "from pyspark.sql.functions import skewness\n",
    "from delta import *\n",
    "from pyspark.sql.types import StructType, StructField, StringType, DateType, DoubleType"
   ]
  },
  {
   "cell_type": "markdown",
   "metadata": {},
   "source": [
    "<h1>Delta with Python pyspark</h1>"
   ]
  },
  {
   "cell_type": "code",
   "execution_count": null,
   "metadata": {},
   "outputs": [],
   "source": [
    "spark = SparkSession.builder \\\n",
    "    .appName(\"PySpark\") \\\n",
    "    .config(\"spark.sql.extensions\", \"io.delta.sql.DeltaSparkSessionExtension\") \\\n",
    "    .config(\"spark.sql.catalog.spark_catalog\", \"org.apache.spark.sql.delta.catalog.DeltaCatalog\") \\\n",
    "    .getOrCreate()"
   ]
  },
  {
   "cell_type": "code",
   "execution_count": null,
   "metadata": {},
   "outputs": [],
   "source": [
    "spark.stop()"
   ]
  },
  {
   "cell_type": "markdown",
   "metadata": {},
   "source": [
    "<h1>Distribution of data visualization</h1>"
   ]
  },
  {
   "cell_type": "code",
   "execution_count": 5,
   "metadata": {},
   "outputs": [],
   "source": [
    "spark2 = SparkSession.builder \\\n",
    "    .appName(\"Simple PySpark Example\") \\\n",
    "    .getOrCreate()\n"
   ]
  },
  {
   "cell_type": "code",
   "execution_count": 11,
   "metadata": {},
   "outputs": [],
   "source": [
    "schema = StructType([\n",
    "    StructField(\"AccountNo\", StringType(), nullable=False),\n",
    "    StructField(\"DATE\", DateType(), nullable=False),\n",
    "    StructField(\"TRANSACTIONDETAILS\", StringType(), nullable=True),\n",
    "    StructField(\"CHQNO\", StringType(), nullable=True),\n",
    "    StructField(\"VALUEDATE\", DateType(), nullable=False),\n",
    "    StructField(\"WITHDRAWALAMT\", DoubleType(), nullable=True),\n",
    "    StructField(\"DEPOSITAMT\", DoubleType(), nullable=True),\n",
    "    StructField(\"BALANCEAMT\", DoubleType(), nullable=True),\n",
    "    StructField(\"TIME\", StringType(), nullable=False)\n",
    "])\n"
   ]
  },
  {
   "cell_type": "code",
   "execution_count": 6,
   "metadata": {},
   "outputs": [
    {
     "name": "stderr",
     "output_type": "stream",
     "text": [
      "                                                                                \r"
     ]
    },
    {
     "name": "stdout",
     "output_type": "stream",
     "text": [
      "root\n",
      " |-- account_id: integer (nullable = true)\n",
      " |-- date: date (nullable = true)\n",
      " |-- transaction_type: string (nullable = true)\n",
      " |-- checkq: string (nullable = true)\n",
      " |-- value_date: date (nullable = true)\n",
      " |-- debit: double (nullable = true)\n",
      " |-- credit: double (nullable = true)\n",
      " |-- balance: double (nullable = true)\n",
      " |-- time: timestamp (nullable = true)\n",
      "\n",
      "+----------+----------+----------------+------+----------+------+------+-------+-------------------+\n",
      "|account_id|      date|transaction_type|checkq|value_date| debit|credit|balance|               time|\n",
      "+----------+----------+----------------+------+----------+------+------+-------+-------------------+\n",
      "|     56135|2024-03-07|         Deposit|  Null|2024-03-07|   0.0|194.17| 194.17|2024-07-11 09:52:22|\n",
      "|     69310|2024-01-06|         Deposit|  Null|2024-01-06|   0.0|173.34| 173.34|2024-07-11 17:10:00|\n",
      "|     65260|2024-06-11|        Withdraw|  Null|2024-06-11|115.58|   0.0|-115.58|2024-07-11 03:37:20|\n",
      "|     71993|2024-04-04|         Deposit|  Null|2024-04-04|   0.0| 472.0|  472.0|2024-07-11 14:11:08|\n",
      "|     83348|2024-03-22|        Withdraw|  Null|2024-03-22|112.42|   0.0|-112.42|2024-07-11 10:08:03|\n",
      "|     29580|2024-04-28|        Withdraw|  Null|2024-04-28| 125.2|   0.0| -125.2|2024-07-11 20:44:33|\n",
      "|     83788|2024-06-04|         Deposit|199413|2024-06-04|   0.0|324.31| 324.31|2024-07-11 18:31:24|\n",
      "|     59947|2024-03-26|        Withdraw|  Null|2024-03-26|221.05|   0.0|-221.05|2024-07-11 02:02:24|\n",
      "|     79840|2024-03-13|         Deposit|  Null|2024-03-13|   0.0|420.17| 420.17|2024-07-11 07:53:52|\n",
      "|     94310|2024-03-20|        Withdraw|  Null|2024-03-20|105.71|   0.0|-105.71|2024-07-11 13:10:01|\n",
      "|     16868|2024-02-13|         Deposit|  Null|2024-02-13|   0.0|252.63| 252.63|2024-07-11 21:29:14|\n",
      "|     92280|2024-03-30|        Withdraw|  Null|2024-03-30| 172.1|   0.0| -172.1|2024-07-11 04:36:09|\n",
      "|     81898|2024-02-12|         Deposit|  Null|2024-02-12|   0.0| 74.94|  74.94|2024-07-11 00:30:28|\n",
      "|     21961|2024-01-25|        Withdraw|  Null|2024-01-25|158.67|   0.0|-158.67|2024-07-11 14:43:55|\n",
      "|     26536|2024-02-18|         Deposit|  Null|2024-02-18|   0.0|438.87| 438.87|2024-07-11 03:50:14|\n",
      "|     52049|2024-03-21|         Deposit|  Null|2024-03-21|   0.0|438.03| 438.03|2024-07-11 22:19:46|\n",
      "|     72306|2024-04-03|        Withdraw|  Null|2024-04-03|496.75|   0.0|-496.75|2024-07-11 22:10:49|\n",
      "|     25151|2024-04-16|         Deposit|  Null|2024-04-16|   0.0|295.65| 295.65|2024-07-11 10:55:50|\n",
      "|     11065|2024-07-09|         Deposit|  Null|2024-07-09|   0.0|127.13| 127.13|2024-07-11 22:58:12|\n",
      "|     84709|2024-03-08|        Withdraw|  Null|2024-03-08|366.33|   0.0|-366.33|2024-07-11 06:13:06|\n",
      "+----------+----------+----------------+------+----------+------+------+-------+-------------------+\n",
      "only showing top 20 rows\n",
      "\n"
     ]
    }
   ],
   "source": [
    "# Read a simple CSV file\n",
    "df = spark2.read \\\n",
    "    .option(\"treatEmptyValuesAsNulls\", \"true\") \\\n",
    "    .option(\"inferSchema\", \"false\") \\\n",
    "    .schema(schema) \\\n",
    "    .csv(\"file:///home/avyuthan-shah/Desktop/F1Intern/Datasets/Bank_transaction/Fake/banktrans5M.csv\", header=True, inferSchema=True)\n",
    "\n",
    "# Show schema and some rows\n",
    "df.printSchema()\n",
    "df.show()"
   ]
  },
  {
   "cell_type": "code",
   "execution_count": null,
   "metadata": {},
   "outputs": [],
   "source": [
    "# from pyspark.sql.functions import col\n",
    "frequency_df = df.groupBy(\"AccountNo\").count().orderBy(\"AccountNo\", ascending=True)\n",
    "frequency_df.show()"
   ]
  },
  {
   "cell_type": "code",
   "execution_count": null,
   "metadata": {},
   "outputs": [],
   "source": [
    "#pip install setuptools first if no module name distutils occurs\n",
    "from matplotlib import pyplot as plt \n",
    "import pandas as pd\n",
    "\n",
    "pandas_df = frequency_df.toPandas()"
   ]
  },
  {
   "cell_type": "code",
   "execution_count": null,
   "metadata": {},
   "outputs": [],
   "source": [
    "pandas_df.sort_values(by='AccountNo', inplace=True)\n",
    "plt.figure(figsize=(12, 8))  # Adjust size as needed\n",
    "plt.plot(pandas_df['AccountNo'], pandas_df['count'], marker='o', color='skyblue', linestyle='-')\n",
    "plt.xlabel('Account Number')\n",
    "plt.ylabel('Count')\n",
    "plt.title('Frequency of Account Numbers')\n",
    "plt.grid(True)\n",
    "plt.tight_layout()\n",
    "plt.show()"
   ]
  },
  {
   "cell_type": "code",
   "execution_count": 4,
   "metadata": {},
   "outputs": [],
   "source": [
    "spark2.stop()"
   ]
  },
  {
   "cell_type": "code",
   "execution_count": null,
   "metadata": {},
   "outputs": [],
   "source": []
  }
 ],
 "metadata": {
  "kernelspec": {
   "display_name": "Python 3 (ipykernel)",
   "language": "python",
   "name": "python3"
  },
  "language_info": {
   "codemirror_mode": {
    "name": "ipython",
    "version": 3
   },
   "file_extension": ".py",
   "mimetype": "text/x-python",
   "name": "python",
   "nbconvert_exporter": "python",
   "pygments_lexer": "ipython3",
   "version": "3.12.4"
  }
 },
 "nbformat": 4,
 "nbformat_minor": 4
}
